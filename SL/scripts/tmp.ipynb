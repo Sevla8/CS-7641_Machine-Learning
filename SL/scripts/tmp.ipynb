{
 "cells": [
  {
   "cell_type": "code",
   "execution_count": 1,
   "metadata": {},
   "outputs": [
    {
     "name": "stdout",
     "output_type": "stream",
     "text": [
      "None\n"
     ]
    }
   ],
   "source": [
    "import pandas as pd\n",
    "from sklearn import preprocessing\n",
    "from sklearn.model_selection import train_test_split\n",
    "from sklearn.preprocessing import StandardScaler\n",
    "from sklearn.preprocessing import LabelEncoder\n",
    "from sklearn.tree import DecisionTreeClassifier\n",
    "import numpy as np\n",
    "import pickle\n",
    "import os\n",
    "\n",
    "def get_data(data_set):\n",
    "\tif data_set == \"gender\":\n",
    "\t\tdata = pd.read_csv(data_set)\n",
    "\t\tdata['gender'] = LabelEncoder().fit_transform(data['gender'])\n",
    "\t\tX = data.drop('gender', axis=1)\n",
    "\t\ty = data['gender']\n",
    "\t\tX_train, X_test, y_train, y_test = train_test_split(X, y, test_size=0.2, random_state=1) \n",
    "\t\tscaler = StandardScaler()\n",
    "\t\tX_train = scaler.fit_transform(X_train)\n",
    "\t\tX_test  = scaler.transform(X_test)\n",
    "\t\ty_train = y_train.to_numpy()\n",
    "\t\ty_test  = y_test.to_numpy() \n",
    "\t\tprint(\"X_train.shape:\", X_train.shape)\n",
    "\t\tprint(\"X_test.shape:\", X_test.shape)\n",
    "\t\tprint(\"y_train.shape:\", y_train.shape)\n",
    "\t\tprint(\"y_test.shape:\", y_test.shape)\n",
    "\t\treturn X_train, np.array(y_train), X_test, np.array(y_test)\n",
    "\n",
    "X_train = get_data(\"../data/gender.csv\")\n",
    "print(X_train)\n",
    "\n",
    "def tree(data_set, max_depth_values=(None,), min_samples_split_values=(2,), training_sizes=(-1,)):\n",
    "\tx_train, y_train, x_test, y_test = get_data(data_set=data_set)\n",
    "\tmax_depth_values = list(max_depth_values)\n",
    "\tmin_samples_split_values = list(min_samples_split_values)\n",
    "\tdata = []\n",
    "\tdata_dict = {}\n",
    "\tfor max_depth in max_depth_values:\n",
    "\t\tdata_dict[max_depth] = {}\n",
    "\t\tfor min_samples_split in min_samples_split_values:\n",
    "\t\t\tdata_dict[max_depth][min_samples_split] = {}\n",
    "\t\t\tfor train_limit in training_sizes:\n",
    "\t\t\t\tclf = DecisionTreeClassifier(max_depth=max_depth, min_samples_split=min_samples_split, random_state=None, class_weight=\"balanced\")\n",
    "\t\t\t\tclf.fit(X=np.array(x_train[:train_limit]), y=np.array(y_train[:train_limit]))\n",
    "\t\t\t\ttrain_score = clf.score(X=np.array(x_train[:train_limit]), y=np.array(y_train[:train_limit]))\n",
    "\t\t\t\ttest_score = clf.score(X=x_test, y=y_test)\n",
    "\t\t\t\tdata.append((test_score, train_score, max_depth, min_samples_split, train_limit))\n",
    "\t\t\t\tdata_dict[max_depth][min_samples_split][train_limit] = {'score': test_score, 'train_score': train_score}\n",
    "\tdata_frame = pd.DataFrame(data, columns=[\"score\", \"train_score\", \"max_depth\", \"min_sample_split\", \"train_size\"])\n",
    "\tdata_dict_indexes = {'max_depth': 0, 'min_samples_split': 1, 'train_limit': 2, 'score_type': 3}\n",
    "\treturn data_frame, data_dict, data_dict_indexes\n",
    "\n",
    "def run(data_set_name):\n",
    "\tif data_set_name == \"creditcard\":\n",
    "\t\tdf, dd, ddi = tree(data_set_name,\n",
    "\t\t\t\t\t\t   max_depth_values=list(range(1, 10, 2)) + list(range(10, 41, 10)),\n",
    "\t\t\t\t\t\t   min_samples_split_values=range(2, 18, 5),\n",
    "\t\t\t\t\t\t   training_sizes=range(10000, 210001, 50000))\n",
    "\t# elif data_set_name == \"starcraft\":\n",
    "\t# \tdf, dd, ddi = tree(data_set_name,\n",
    "\t# \t\t\t\t\t   max_depth_values=list(range(1, 21, 5)) + list(range(23, 36, 2)) + [37, 40, 45],\n",
    "\t# \t\t\t\t\t   min_samples_split_values=range(2, 23, 5),\n",
    "\t# \t\t\t\t\t   training_sizes=range(500, 2001, 500))\n",
    "\telif data_set_name == \"../data/gender\":\n",
    "\t\tdf, dd, ddi = tree(data_set_name,\n",
    "\t\t\t\t\t\t   max_depth_values=list(range(1, 10, 2)) + list(range(10, 41, 10)),\n",
    "\t\t\t\t\t\t   min_samples_split_values=range(2, 18, 5),\n",
    "\t\t\t\t\t\t   training_sizes=range(10000, 210001, 50000))\n",
    "\telse:\n",
    "\t\tprint(\"unknow dataset:\", data_set_name)\n",
    "\t\texit(2)\n",
    "\tif not os.path.exists(\"../stats\"):\n",
    "\t\tos.makedirs(\"../stats\")\n",
    "\tdf.to_csv(path_or_buf=\"../stats/tree_\" + data_set_name + \".csv\")\n",
    "\twith open(\"../stats/tree_\" + data_set_name + \"_dict.pikle\", 'wb') as handle:\n",
    "\t\tpickle.dump(dd, handle, protocol=pickle.HIGHEST_PROTOCOL)\n",
    "\twith open(\"../stats/tree_\" + data_set_name + \"_dict_indexes.pikle\", 'wb') as handle:\n",
    "\t\tpickle.dump(ddi, handle, protocol=pickle.HIGHEST_PROTOCOL)\n",
    "\t\n",
    "# run(data_set_name=\"creditcard\")\n",
    "# run(data_set_name=\"starcraft\")\n",
    "# run(data_set_name=\"../data/gender\")\n"
   ]
  }
 ],
 "metadata": {
  "kernelspec": {
   "display_name": "Python 3.10.6 64-bit",
   "language": "python",
   "name": "python3"
  },
  "language_info": {
   "name": "python",
   "version": "3.10.6"
  },
  "orig_nbformat": 4,
  "vscode": {
   "interpreter": {
    "hash": "916dbcbb3f70747c44a77c7bcd40155683ae19c65e1c03b4aa3499c5328201f1"
   }
  }
 },
 "nbformat": 4,
 "nbformat_minor": 2
}
